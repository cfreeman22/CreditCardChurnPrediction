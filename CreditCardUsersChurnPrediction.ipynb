{
  "nbformat": 4,
  "nbformat_minor": 0,
  "metadata": {
    "colab": {
      "name": "CreditCardUsersChurnPrediction.ipynb",
      "provenance": [],
      "authorship_tag": "ABX9TyNV2RbYeatINNd9Ur/L4wPE",
      "include_colab_link": true
    },
    "kernelspec": {
      "name": "python3",
      "display_name": "Python 3"
    },
    "language_info": {
      "name": "python"
    }
  },
  "cells": [
    {
      "cell_type": "markdown",
      "metadata": {
        "id": "view-in-github",
        "colab_type": "text"
      },
      "source": [
        "<a href=\"https://colab.research.google.com/github/cfreeman22/CreditCardChurnPrediction/blob/main/CreditCardUsersChurnPrediction.ipynb\" target=\"_parent\"><img src=\"https://colab.research.google.com/assets/colab-badge.svg\" alt=\"Open In Colab\"/></a>"
      ]
    },
    {
      "cell_type": "markdown",
      "source": [
        "# Credit card churn Prediction\n",
        "Which customer is most likely to get a loan?\n",
        "Presented By Christian Freeman  March 2022\n",
        "\n",
        "## Project Planning\n",
        "## PLAN ==> Acquire ==> Prepare ==> Explore ==> Model &Evaluate ==> Deliver\n",
        "\n",
        " \n",
        "## Background & Context\n",
        "\n",
        "The Thera bank recently saw a steep decline in the number of credit card users. Credit cards are a good source of income for banks because of the different kinds of fees the banks charge, such as annual fees, balance transfer fees, cash advance fees, late payment fees, foreign transaction fees, and others. Some fees are charged to every user irrespective of usage, while others are charged under specified circumstances.\n",
        "\n",
        "Customers leaving credit cards services would lead banks to loss, so the bank wants to analyze the data of customers and identify the customers who will leave their credit card services and reason for same – so that bank could improve upon those areas.\n",
        "Goals and objectives\n",
        "Understanding consumer behavior can be quite challenging, especially when the product we offer our customers is a service rather than a tangible physical product.\n",
        "My goal in this project is to come up with a classification model that will help the bank improve its services so that customers do not renounce their credit cardsIn the case of predicting which customer is most likely to churn, I will perform the following:\n",
        "\n",
        "- Prepare the data for visualization using a customized module wrangle.py\n",
        "- Identify patterns and insights\n",
        "- Document key observations and relationships between variable\n",
        "\n",
        "- Identify the characteristics of customers who are more likely to churn and the potential reasons for this behavior.\n",
        "- Build a ML model to predict which customers may stop using credit cards so that recommendations are made based on the findings to help increase the chances of targeting the right customer.\n",
        "- I will be using Python, Pandas, Matplotlib, Seaborn, and Scikit-Learn libraries to analyze and create a ML classification model.\n",
        "## Initial Questions\n",
        "What are the unique characteristics of our customers?\n",
        "What factors increase their chances of churning?\n",
        "can we predict credit cards subscribers' behavior?\n",
        "## Executive Summary\n",
        "Findings Include:"
      ],
      "metadata": {
        "id": "mw-xCP6zfnV7"
      }
    },
    {
      "cell_type": "code",
      "source": [
        ""
      ],
      "metadata": {
        "id": "pNf8DXsAgvJW"
      },
      "execution_count": null,
      "outputs": []
    }
  ]
}