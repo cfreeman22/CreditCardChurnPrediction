{
  "nbformat": 4,
  "nbformat_minor": 0,
  "metadata": {
    "colab": {
      "name": "CreditCardUsersChurnPrediction.ipynb",
      "provenance": [],
      "authorship_tag": "ABX9TyMbzPXGRzIi/6E8FYvfMZUE",
      "include_colab_link": true
    },
    "kernelspec": {
      "name": "python3",
      "display_name": "Python 3"
    },
    "language_info": {
      "name": "python"
    }
  },
  "cells": [
    {
      "cell_type": "markdown",
      "metadata": {
        "id": "view-in-github",
        "colab_type": "text"
      },
      "source": [
        "<a href=\"https://colab.research.google.com/github/cfreeman22/CreditCardChurnPrediction/blob/main/CreditCardUsersChurnPrediction.ipynb\" target=\"_parent\"><img src=\"https://colab.research.google.com/assets/colab-badge.svg\" alt=\"Open In Colab\"/></a>"
      ]
    },
    {
      "cell_type": "markdown",
      "source": [
        "# Credit card churn Prediction\n",
        "Which customer is most likely to get a loan?\n",
        "Presented By Christian Freeman  March 2022\n",
        "\n",
        "## Project Planning\n",
        "## PLAN ==> Acquire ==> Prepare ==> Explore ==> Model &Evaluate ==> Deliver\n",
        "Understanding consumer behavior can quite chanlenging, especially when the product we offer our customers is a service rather than a tangible physical products. In the case of predicting which customer is most likely to get a loan,, I will perform the following:\n",
        "\n",
        "Prepare the data for visualization using a customized module wrangle.py\n",
        "Identify patterns and insights\n",
        "Document key observations and relationships between variables\n",
        "Goals and summary\n",
        "My goal in this project is to:\n",
        "\n",
        "Identify the characteristics of customers who are more likely to get a loan, and the potential reasons for this behavior.\n",
        "Build a ML model to predict which customer may sign up for a loan So that recommendations are made based on the findings to help increase the chances of giving a loan the the right customer.\n",
        "I will be using Python, Pandas, Matplotlib, Seaborn, and Scikit-Learn libraries to analyse and create ML classification model.\n",
        "## Initial Questions\n",
        "What are unique characteristics of our customers?\n",
        "What factors increase their chances of getting a loan ?\n",
        "can we predict loan subscribers ?\n",
        "## Executive Summary\n",
        "Findings Include:"
      ],
      "metadata": {
        "id": "mw-xCP6zfnV7"
      }
    },
    {
      "cell_type": "code",
      "source": [
        ""
      ],
      "metadata": {
        "id": "pNf8DXsAgvJW"
      },
      "execution_count": null,
      "outputs": []
    }
  ]
}